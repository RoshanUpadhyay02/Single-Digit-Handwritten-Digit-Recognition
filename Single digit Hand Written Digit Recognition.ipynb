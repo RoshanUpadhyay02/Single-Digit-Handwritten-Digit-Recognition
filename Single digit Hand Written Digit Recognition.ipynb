{
 "cells": [
  {
   "cell_type": "code",
   "execution_count": 1,
   "id": "2fe7e5c5",
   "metadata": {},
   "outputs": [],
   "source": [
    "# import libraries\n",
    "\n",
    "import pandas as pd\n",
    "import matplotlib.pyplot as plt\n",
    "from sklearn.preprocessing import StandardScaler\n",
    "from sklearn.decomposition import PCA\n",
    "from sklearn.datasets import fetch_openml\n",
    "from sklearn.linear_model import LogisticRegression\n",
    "from sklearn.model_selection import train_test_split"
   ]
  },
  {
   "cell_type": "code",
   "execution_count": 2,
   "id": "0b918e04",
   "metadata": {},
   "outputs": [],
   "source": [
    "# load dataset\n",
    "\n",
    "mnist = fetch_openml('mnist_784')"
   ]
  },
  {
   "cell_type": "code",
   "execution_count": 3,
   "id": "28a4362e",
   "metadata": {
    "scrolled": true
   },
   "outputs": [
    {
     "data": {
      "text/plain": [
       "(70000, 784)"
      ]
     },
     "execution_count": 3,
     "metadata": {},
     "output_type": "execute_result"
    }
   ],
   "source": [
    "mnist.data.shape"
   ]
  },
  {
   "cell_type": "markdown",
   "id": "63211622",
   "metadata": {},
   "source": [
    "# Showing image using matplotlib"
   ]
  },
  {
   "cell_type": "code",
   "execution_count": 23,
   "id": "50be2df4",
   "metadata": {},
   "outputs": [],
   "source": [
    "def show_image_p(frame, index):\n",
    "    digit = frame.to_numpy()[index]\n",
    "    digit_img = digit.reshape(28,28)\n",
    "    \n",
    "    plt.imshow(digit_img,cmap='binary')\n",
    "    plt.axis('off')\n",
    "    plt.show()"
   ]
  },
  {
   "cell_type": "code",
   "execution_count": 25,
   "id": "f3685f41",
   "metadata": {
    "scrolled": true
   },
   "outputs": [
    {
     "data": {
      "image/png": "[encoded data removed]",
      "text/plain": [
       "<Figure size 432x288 with 1 Axes>"
      ]
     },
     "metadata": {
      "needs_background": "light"
     },
     "output_type": "display_data"
    }
   ],
   "source": [
    "show_image_p(mnist.data,0)"
   ]
  },
  {
   "cell_type": "markdown",
   "id": "6cb2cf96",
   "metadata": {},
   "source": [
    "# Showing image using opencv"
   ]
  },
  {
   "cell_type": "code",
   "execution_count": 6,
   "id": "9ca9fc21",
   "metadata": {},
   "outputs": [],
   "source": [
    "import cv2 as cv"
   ]
  },
  {
   "cell_type": "code",
   "execution_count": 15,
   "id": "21e77cee",
   "metadata": {},
   "outputs": [],
   "source": [
    "def show_image(frame, index):\n",
    "    digit = frame.to_numpy()[index]\n",
    "    digit_img = digit.reshape(28,28)\n",
    "    \n",
    "    cv.imshow('image',digit_img)\n",
    "    cv.waitKey(0)\n",
    "    cv.destroyAllWindows()"
   ]
  },
  {
   "cell_type": "code",
   "execution_count": 17,
   "id": "de42b1c7",
   "metadata": {},
   "outputs": [],
   "source": [
    "show_image(mnist.data,1)"
   ]
  },
  {
   "cell_type": "code",
   "execution_count": 487,
   "id": "7a187b2a",
   "metadata": {},
   "outputs": [],
   "source": [
    "# Split Dataset\n",
    "train_img, test_img, train_lbl, test_lbl = train_test_split(mnist.data, mnist.target, test_size=0.30, random_state=0)"
   ]
  },
  {
   "cell_type": "code",
   "execution_count": 488,
   "id": "84b76646",
   "metadata": {},
   "outputs": [
    {
     "data": {
      "text/plain": [
       "pandas.core.frame.DataFrame"
      ]
     },
     "execution_count": 488,
     "metadata": {},
     "output_type": "execute_result"
    }
   ],
   "source": [
    "type(train_img)"
   ]
  },
  {
   "cell_type": "code",
   "execution_count": 489,
   "id": "0762b8dd",
   "metadata": {},
   "outputs": [],
   "source": [
    "test_img_copy = test_img.copy()"
   ]
  },
  {
   "cell_type": "code",
   "execution_count": 490,
   "id": "109fded8",
   "metadata": {
    "scrolled": true
   },
   "outputs": [
    {
     "data": {
      "image/png": "[encoded data removed]",
      "text/plain": [
       "<Figure size 432x288 with 1 Axes>"
      ]
     },
     "metadata": {
      "needs_background": "light"
     },
     "output_type": "display_data"
    }
   ],
   "source": [
    "show_image_p(test_img_copy,2)"
   ]
  },
  {
   "cell_type": "markdown",
   "id": "26f46dac",
   "metadata": {},
   "source": [
    "# Scalling our data"
   ]
  },
  {
   "cell_type": "code",
   "execution_count": 491,
   "id": "70c1537f",
   "metadata": {},
   "outputs": [],
   "source": [
    "scaler = StandardScaler()\n",
    "scaler.fit(train_img)\n",
    "train_img = scaler.transform(train_img)\n",
    "test_img = scaler.transform(test_img)"
   ]
  },
  {
   "cell_type": "markdown",
   "id": "cbb45be4",
   "metadata": {},
   "source": [
    "# Applying PCA Algorithm"
   ]
  },
  {
   "cell_type": "code",
   "execution_count": 492,
   "id": "bd41da62",
   "metadata": {},
   "outputs": [],
   "source": [
    "# Creating instance of a PCA Model (here variance is protected by 95%)\n",
    "model_pca = PCA(0.95)"
   ]
  },
  {
   "cell_type": "code",
   "execution_count": 493,
   "id": "936d958d",
   "metadata": {},
   "outputs": [
    {
     "data": {
      "text/plain": [
       "PCA(n_components=0.95)"
      ]
     },
     "execution_count": 493,
     "metadata": {},
     "output_type": "execute_result"
    }
   ],
   "source": [
    "model_pca.fit(train_img) # applying PCA on trainin data"
   ]
  },
  {
   "cell_type": "code",
   "execution_count": 494,
   "id": "3475adda",
   "metadata": {},
   "outputs": [
    {
     "name": "stdout",
     "output_type": "stream",
     "text": [
      "323\n"
     ]
    }
   ],
   "source": [
    "# New dimension (Basically how many dimensions it has reduced to from 784 dimensions)\n",
    "print(model_pca.n_components_)"
   ]
  },
  {
   "cell_type": "code",
   "execution_count": 495,
   "id": "85a78479",
   "metadata": {},
   "outputs": [],
   "source": [
    "# reducing both datasets from 784 to 323 using PCA transform\n",
    "train_img = model_pca.transform(train_img)\n",
    "test_img = model_pca.transform(test_img)"
   ]
  },
  {
   "cell_type": "markdown",
   "id": "359d0b3f",
   "metadata": {},
   "source": [
    "# Logistic Regression"
   ]
  },
  {
   "cell_type": "markdown",
   "id": "515fa901",
   "metadata": {},
   "source": [
    "lbfgs — Stands for Limited-memory Broyden–Fletcher–Goldfarb–Shanno. It approximates the second derivative matrix updates with gradient evaluations. It stores only the last few updates, so it saves memory. It isn't super fast with large data sets.\n",
    "\n",
    "Default solver in Logistic Regression"
   ]
  },
  {
   "cell_type": "code",
   "execution_count": 496,
   "id": "83201fa0",
   "metadata": {},
   "outputs": [],
   "source": [
    "# using lbfgs solver\n",
    "model = LogisticRegression(solver='lbfgs', max_iter=10000)"
   ]
  },
  {
   "cell_type": "markdown",
   "id": "ae709ffc",
   "metadata": {},
   "source": [
    "Training Logistic Regression model using training data"
   ]
  },
  {
   "cell_type": "code",
   "execution_count": 497,
   "id": "a5dec27b",
   "metadata": {},
   "outputs": [
    {
     "data": {
      "text/plain": [
       "LogisticRegression(max_iter=10000)"
      ]
     },
     "execution_count": 497,
     "metadata": {},
     "output_type": "execute_result"
    }
   ],
   "source": [
    "model.fit(train_img,train_lbl)"
   ]
  },
  {
   "cell_type": "code",
   "execution_count": 498,
   "id": "dc415cd6",
   "metadata": {},
   "outputs": [
    {
     "data": {
      "text/plain": [
       "array(['0'], dtype=object)"
      ]
     },
     "execution_count": 498,
     "metadata": {},
     "output_type": "execute_result"
    }
   ],
   "source": [
    "model.predict(test_img[0].reshape(1,-1))"
   ]
  },
  {
   "cell_type": "code",
   "execution_count": 499,
   "id": "d8c81916",
   "metadata": {},
   "outputs": [
    {
     "data": {
      "image/png": "[encoded data removed]",
      "text/plain": [
       "<Figure size 432x288 with 1 Axes>"
      ]
     },
     "metadata": {
      "needs_background": "light"
     },
     "output_type": "display_data"
    }
   ],
   "source": [
    "show_image_p(test_img_copy,0)"
   ]
  },
  {
   "cell_type": "code",
   "execution_count": 500,
   "id": "2e7e10b9",
   "metadata": {},
   "outputs": [],
   "source": [
    "show_image(test_img_copy,0)"
   ]
  },
  {
   "cell_type": "code",
   "execution_count": 501,
   "id": "a0f01b74",
   "metadata": {},
   "outputs": [
    {
     "data": {
      "text/plain": [
       "array(['4'], dtype=object)"
      ]
     },
     "execution_count": 501,
     "metadata": {},
     "output_type": "execute_result"
    }
   ],
   "source": [
    "model.predict(test_img[1].reshape(1,-1))"
   ]
  },
  {
   "cell_type": "code",
   "execution_count": 502,
   "id": "ab40d166",
   "metadata": {},
   "outputs": [
    {
     "data": {
      "image/png": "[encoded data removed]",
      "text/plain": [
       "<Figure size 432x288 with 1 Axes>"
      ]
     },
     "metadata": {
      "needs_background": "light"
     },
     "output_type": "display_data"
    }
   ],
   "source": [
    "show_image_p(test_img_copy,1)"
   ]
  },
  {
   "cell_type": "code",
   "execution_count": 503,
   "id": "8ff49005",
   "metadata": {},
   "outputs": [],
   "source": [
    "show_image(test_img_copy,1)"
   ]
  },
  {
   "cell_type": "code",
   "execution_count": 504,
   "id": "52f5560c",
   "metadata": {},
   "outputs": [
    {
     "data": {
      "text/plain": [
       "array(['9'], dtype=object)"
      ]
     },
     "execution_count": 504,
     "metadata": {},
     "output_type": "execute_result"
    }
   ],
   "source": [
    "model.predict(test_img[42].reshape(1,-1))"
   ]
  },
  {
   "cell_type": "code",
   "execution_count": 505,
   "id": "33494b1e",
   "metadata": {},
   "outputs": [
    {
     "data": {
      "image/png": "[encoded data removed]",
      "text/plain": [
       "<Figure size 432x288 with 1 Axes>"
      ]
     },
     "metadata": {
      "needs_background": "light"
     },
     "output_type": "display_data"
    }
   ],
   "source": [
    "show_image_p(test_img_copy,42)"
   ]
  },
  {
   "cell_type": "code",
   "execution_count": 506,
   "id": "0946692a",
   "metadata": {},
   "outputs": [],
   "source": [
    "show_image(test_img_copy,42)"
   ]
  },
  {
   "cell_type": "code",
   "execution_count": 507,
   "id": "4d560154",
   "metadata": {},
   "outputs": [
    {
     "data": {
      "image/png": "[encoded data removed]",
      "text/plain": [
       "<Figure size 432x288 with 1 Axes>"
      ]
     },
     "metadata": {
      "needs_background": "light"
     },
     "output_type": "display_data"
    }
   ],
   "source": [
    "show_image_p(test_img_copy,177)"
   ]
  },
  {
   "cell_type": "code",
   "execution_count": 508,
   "id": "f68fc63c",
   "metadata": {},
   "outputs": [
    {
     "data": {
      "text/plain": [
       "array(['7'], dtype=object)"
      ]
     },
     "execution_count": 508,
     "metadata": {},
     "output_type": "execute_result"
    }
   ],
   "source": [
    "model.predict(test_img[177].reshape(1,-1))"
   ]
  },
  {
   "cell_type": "markdown",
   "id": "f2378857",
   "metadata": {},
   "source": [
    "# Finding accuracy of the model"
   ]
  },
  {
   "cell_type": "code",
   "execution_count": 509,
   "id": "7066422d",
   "metadata": {},
   "outputs": [
    {
     "data": {
      "text/plain": [
       "0.9190952380952381"
      ]
     },
     "execution_count": 509,
     "metadata": {},
     "output_type": "execute_result"
    }
   ],
   "source": [
    "model.score(test_img, test_lbl)"
   ]
  },
  {
   "cell_type": "markdown",
   "id": "17dd2eea",
   "metadata": {},
   "source": [
    "# Loading & Saving Model"
   ]
  },
  {
   "cell_type": "code",
   "execution_count": 510,
   "id": "14b98e98",
   "metadata": {},
   "outputs": [],
   "source": [
    "import pickle"
   ]
  },
  {
   "cell_type": "code",
   "execution_count": 511,
   "id": "566638ef",
   "metadata": {},
   "outputs": [],
   "source": [
    "# save logistic Regression model\n",
    "with open('Logistic_Regression_Model', 'wb') as files:\n",
    "    pickle.dump(model, files)"
   ]
  },
  {
   "cell_type": "code",
   "execution_count": 512,
   "id": "939175e0",
   "metadata": {},
   "outputs": [],
   "source": [
    "# save logistic Regression model\n",
    "with open('PCA', 'wb') as files:\n",
    "    pickle.dump(model_pca, files)"
   ]
  },
  {
   "cell_type": "code",
   "execution_count": null,
   "id": "6c4ad846",
   "metadata": {},
   "outputs": [],
   "source": [
    "# load model\n",
    "with open('Hand_Written_Digit_Recognition_model' , 'rb') as f:\n",
    "    model = pickle.load(f)"
   ]
  },
  {
   "cell_type": "markdown",
   "id": "ca944f31",
   "metadata": {},
   "source": [
    "# Testing Accuracy"
   ]
  },
  {
   "cell_type": "code",
   "execution_count": 174,
   "id": "25bedcc1",
   "metadata": {
    "scrolled": true
   },
   "outputs": [
    {
     "data": {
      "text/plain": [
       "array(['0', '4', '1', ..., '9', '0', '1'], dtype=object)"
      ]
     },
     "execution_count": 174,
     "metadata": {},
     "output_type": "execute_result"
    }
   ],
   "source": [
    "from sklearn.metrics import confusion_matrix\n",
    "from sklearn.metrics import plot_confusion_matrix\n",
    "pred = model.predict(test_img)\n",
    "pred"
   ]
  },
  {
   "cell_type": "code",
   "execution_count": 175,
   "id": "ac82ded6",
   "metadata": {},
   "outputs": [
    {
     "data": {
      "text/plain": [
       "<matplotlib.image.AxesImage at 0x20fedf14430>"
      ]
     },
     "execution_count": 175,
     "metadata": {},
     "output_type": "execute_result"
    },
    {
     "data": {
      "image/png": "[encoded data removed]",
      "text/plain": [
       "<Figure size 432x288 with 1 Axes>"
      ]
     },
     "metadata": {
      "needs_background": "light"
     },
     "output_type": "display_data"
    }
   ],
   "source": [
    "cm = confusion_matrix(test_lbl,pred)\n",
    "cm\n",
    "plt.imshow(cm, cmap='binary')"
   ]
  },
  {
   "cell_type": "code",
   "execution_count": 176,
   "id": "cd1977c5",
   "metadata": {
    "scrolled": true
   },
   "outputs": [
    {
     "data": {
      "image/png": "[encoded data removed]",
      "text/plain": [
       "<Figure size 432x288 with 2 Axes>"
      ]
     },
     "metadata": {
      "needs_background": "light"
     },
     "output_type": "display_data"
    }
   ],
   "source": [
    "import matplotlib.pyplot as plt\n",
    "from sklearn.metrics import ConfusionMatrixDisplay\n",
    "\n",
    "disp = ConfusionMatrixDisplay(confusion_matrix=cm)\n",
    "\n",
    "disp = disp.plot()\n",
    "\n",
    "plt.show()"
   ]
  },
  {
   "cell_type": "code",
   "execution_count": 154,
   "id": "54994773",
   "metadata": {},
   "outputs": [],
   "source": [
    "from sklearn import metrics\n",
    "from tensorflow.keras.utils import to_categorical"
   ]
  },
  {
   "cell_type": "code",
   "execution_count": 155,
   "id": "143cc4ff",
   "metadata": {},
   "outputs": [
    {
     "name": "stdout",
     "output_type": "stream",
     "text": [
      "Performance Report:\n",
      "Accuracy score is : 91.9095238095238\n",
      "Precision score is : 91.90199431188832\n",
      "Recall score is : 91.9095238095238\n",
      "F1 Score is : 91.89734398537477\n"
     ]
    }
   ],
   "source": [
    "print(\"Performance Report:\")\n",
    "pred_out = model.predict(test_img)\n",
    "\n",
    "print('Accuracy score is :', metrics.accuracy_score(test_lbl, pred_out)*100)\n",
    "print('Precision score is :', metrics.precision_score(test_lbl, pred_out, average='weighted')*100)\n",
    "print('Recall score is :',metrics.recall_score(test_lbl,pred_out, average='weighted')*100)\n",
    "print('F1 Score is :', metrics.f1_score(test_lbl, pred_out,average='weighted')*100)"
   ]
  }
 ],
 "metadata": {
  "kernelspec": {
   "display_name": "Python 3 (ipykernel)",
   "language": "python",
   "name": "python3"
  },
  "language_info": {
   "codemirror_mode": {
    "name": "ipython",
    "version": 3
   },
   "file_extension": ".py",
   "mimetype": "text/x-python",
   "name": "python",
   "nbconvert_exporter": "python",
   "pygments_lexer": "ipython3",
   "version": "3.9.12"
  }
 },
 "nbformat": 4,
 "nbformat_minor": 5
}
